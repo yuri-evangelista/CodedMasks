{
 "cells": [
  {
   "cell_type": "code",
   "execution_count": 1,
   "id": "1ca95f03-70df-4ae8-9930-93bc8d83f389",
   "metadata": {},
   "outputs": [],
   "source": [
    "import numpy as np\n",
    "from pprint import pprint\n",
    "import timeit\n",
    "from scipy.ndimage import shift\n",
    "import numpy.testing as npt"
   ]
  },
  {
   "cell_type": "code",
   "execution_count": 2,
   "id": "ee89858b-9e94-4d7a-8302-bd3603a9888a",
   "metadata": {},
   "outputs": [],
   "source": [
    "def fshift_opt(arr, lagx, lagy):\n",
    "    \"\"\"\n",
    "    Shifts a 2D array (casted to float) with fractional shifts using SciPy.\n",
    "    \n",
    "    Note: SciPy's shift convention is (y, x), so we pass (lagy, lagx).\n",
    "    \"\"\"\n",
    "    return shift(arr, (lagy, lagx), 'float',order=1, prefilter=True, mode='grid-constant', cval=0.0)"
   ]
  },
  {
   "cell_type": "code",
   "execution_count": 3,
   "id": "36bed2f9-71e7-4518-bf3d-96b232ab0ebd",
   "metadata": {},
   "outputs": [],
   "source": [
    "img = np.random.randint(1, size=(int(260.0/0.25*5),int(260.0/0.4*5)))\n",
    "rep = 20"
   ]
  },
  {
   "cell_type": "code",
   "execution_count": 4,
   "id": "be3713e2-18f9-41f0-bf82-40c2a2910531",
   "metadata": {},
   "outputs": [
    {
     "data": {
      "text/plain": [
       "0.2731780350000008"
      ]
     },
     "execution_count": 4,
     "metadata": {},
     "output_type": "execute_result"
    }
   ],
   "source": [
    "t = timeit.timeit('fshift_opt(img, -3900.1,3100.7)', globals=globals(), number=rep)\n",
    "t/rep"
   ]
  },
  {
   "cell_type": "code",
   "execution_count": 5,
   "id": "00c51a2a-c9a5-40b0-8204-24c44d3a65ba",
   "metadata": {},
   "outputs": [
    {
     "data": {
      "text/plain": [
       "0.3309790949999979"
      ]
     },
     "execution_count": 5,
     "metadata": {},
     "output_type": "execute_result"
    }
   ],
   "source": [
    "t = timeit.timeit('fshift_opt(img, -900.14324,-800.7)', globals=globals(), number=rep)\n",
    "t/rep"
   ]
  },
  {
   "cell_type": "code",
   "execution_count": 20,
   "id": "d653bc7e-93e2-4602-a0c4-5abc116f9df5",
   "metadata": {},
   "outputs": [],
   "source": [
    "\n",
    "################################################################\n",
    "# NOW WE TRY WITH CUPY\n",
    "################################################################\n"
   ]
  },
  {
   "cell_type": "code",
   "execution_count": 21,
   "id": "4fbbb85d-05ff-4d61-824d-fa0c44df0fc2",
   "metadata": {},
   "outputs": [],
   "source": [
    "import cupy as cp\n",
    "from cupyx.scipy import ndimage as ndi"
   ]
  },
  {
   "cell_type": "code",
   "execution_count": 22,
   "id": "f20d3ff0-6241-4fc3-b3f4-cac09b6573e8",
   "metadata": {},
   "outputs": [],
   "source": [
    "def fshift_opt_cp(arr, lagx, lagy):\n",
    "    \"\"\"\n",
    "    Shifts a 2D array (casted to float) with fractional shifts using CuPy and returns a numpy array.\n",
    "    \n",
    "    Note: SciPy's shift convention is (y, x), so we pass (lagy, lagx).\n",
    "    \"\"\"\n",
    "\n",
    "    return cp.asnumpy(ndi.shift(cp.asarray(arr), (lagy, lagx), 'float',order=1, prefilter=True, mode='grid-constant', cval=0.0))"
   ]
  },
  {
   "cell_type": "code",
   "execution_count": 23,
   "id": "6dcb04fd-5931-4076-af3c-af85455fa7b6",
   "metadata": {},
   "outputs": [
    {
     "data": {
      "text/plain": [
       "0.05944048999999722"
      ]
     },
     "execution_count": 23,
     "metadata": {},
     "output_type": "execute_result"
    }
   ],
   "source": [
    "img = np.random.randint(1, size=(int(260.0/0.25*5),int(260.0/0.4*5)))\n",
    "rep = 20\n",
    "t = timeit.timeit('fshift_opt_cp(img, -900.14324,-800.7)', globals=globals(), number=rep)\n",
    "t/rep"
   ]
  },
  {
   "cell_type": "code",
   "execution_count": 24,
   "id": "07c89d2d-2661-4bed-828a-21c33ce062a2",
   "metadata": {},
   "outputs": [],
   "source": [
    "npt.assert_array_almost_equal(fshift_opt(img, -1900.2,3900.3), fshift_opt_cp(img, -1900.2,3900.3), decimal=6)"
   ]
  },
  {
   "cell_type": "code",
   "execution_count": null,
   "id": "f8e87b97-b913-4a69-866d-f13fc238c442",
   "metadata": {},
   "outputs": [],
   "source": []
  }
 ],
 "metadata": {
  "kernelspec": {
   "display_name": "Python 3 (ipykernel)",
   "language": "python",
   "name": "python3"
  },
  "language_info": {
   "codemirror_mode": {
    "name": "ipython",
    "version": 3
   },
   "file_extension": ".py",
   "mimetype": "text/x-python",
   "name": "python",
   "nbconvert_exporter": "python",
   "pygments_lexer": "ipython3",
   "version": "3.12.9"
  }
 },
 "nbformat": 4,
 "nbformat_minor": 5
}
