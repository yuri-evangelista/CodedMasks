{
 "cells": [
  {
   "cell_type": "code",
   "execution_count": 1,
   "id": "c5c74725-7621-4782-9987-fb18cfb0d0d2",
   "metadata": {},
   "outputs": [],
   "source": [
    "%matplotlib ipympl\n",
    "import numpy as np\n",
    "from mask_utils import *\n",
    "import matplotlib.pyplot as plt\n",
    "from matplotlib import cm"
   ]
  },
  {
   "cell_type": "markdown",
   "id": "7753e93e-7a38-4ad1-be9d-398e12c79361",
   "metadata": {},
   "source": [
    "# CONVERT FITS MASK IN DXF"
   ]
  },
  {
   "cell_type": "markdown",
   "id": "a709a7b9-4c96-4aea-aa08-55eb0e352659",
   "metadata": {},
   "source": [
    "## Reading mask file returning mask image (array) and header"
   ]
  },
  {
   "cell_type": "code",
   "execution_count": 2,
   "id": "efa1b91e-5e99-4d32-be9e-0cace4bb62c0",
   "metadata": {},
   "outputs": [],
   "source": [
    "fitsmask = 'mask_050_1040x17_20250709.fits'\n",
    "#fitsmask = 'wfm_mask.fits'\n",
    "#fitsmask = 'wfm_mask_test.fits'\n"
   ]
  },
  {
   "cell_type": "code",
   "execution_count": 3,
   "id": "7c1fcb87-a75e-46f1-803a-700894e14249",
   "metadata": {},
   "outputs": [],
   "source": [
    "with pyfits.open(fitsmask) as hdu_list:     \n",
    "    header = hdu_list['MASK'].header\n",
    "    NELE   = header['NAXIS2']\n",
    "    ELXDIM = header['ELXDIM']\n",
    "    ELYDIM = header['ELYDIM']\n",
    "    ELXN   = header['ELXN']\n",
    "    ELYN   = header['ELYN']\n",
    "    MINX   = header['MINX']\n",
    "    MINY   = header['MINY']\n",
    "    data=Table(hdu_list['MASK'].data)"
   ]
  },
  {
   "cell_type": "code",
   "execution_count": 4,
   "id": "b0c0fc34-9ff6-49d9-8d0f-e88e5c82f3b9",
   "metadata": {},
   "outputs": [
    {
     "name": "stdout",
     "output_type": "stream",
     "text": [
      "1040 522\n"
     ]
    }
   ],
   "source": [
    "print(ELXN, ELYN)"
   ]
  },
  {
   "cell_type": "markdown",
   "id": "9e833c33-1547-4d16-b711-f11cff200bf2",
   "metadata": {},
   "source": [
    "For each closed element in the mask image, we generate a dxf rectangle with dimension EXLDIM $\\times$ ELYDIM"
   ]
  },
  {
   "cell_type": "code",
   "execution_count": 5,
   "id": "7b61fc6a-bd66-4b36-bcb6-d3a4fc88aa82",
   "metadata": {},
   "outputs": [],
   "source": [
    "import ezdxf\n",
    "from ezdxf.addons import r12writer"
   ]
  },
  {
   "cell_type": "code",
   "execution_count": 6,
   "id": "fbcdab79-70e3-4eb0-b91a-284ee420b0df",
   "metadata": {},
   "outputs": [
    {
     "data": {
      "text/plain": [
       "'\\n# Create a new DXF document\\ndoc = ezdxf.new(dxfversion=\\'R2010\\')\\nmsp = doc.modelspace()\\n\\n\\nfor ele in range(data[\\'X\\'].size):\\n    #If it is an open element...\\n    if data[\\'VAL\\'][ele] == 1:\\n        #Define rectangle corners\\n        x1, y1 = data[\\'X\\'][ele] - ELXDIM/2, data[\\'Y\\'][ele] - ELYDIM/2\\n        x2, y2 = data[\\'X\\'][ele] + ELXDIM/2, data[\\'Y\\'][ele] + ELYDIM/2\\n        msp.add_lwpolyline([(x1, y1),(x2, y1),(x2, y2),(x1, y2),(x1, y1)],close=True)\\n\\ndoc.saveas(\"wfm_mask_test.dxf\")\\n'"
      ]
     },
     "execution_count": 6,
     "metadata": {},
     "output_type": "execute_result"
    }
   ],
   "source": [
    "\"\"\"\n",
    "# Create a new DXF document\n",
    "doc = ezdxf.new(dxfversion='R2010')\n",
    "msp = doc.modelspace()\n",
    "\n",
    "\n",
    "for ele in range(data['X'].size):\n",
    "    #If it is an open element...\n",
    "    if data['VAL'][ele] == 1:\n",
    "        #Define rectangle corners\n",
    "        x1, y1 = data['X'][ele] - ELXDIM/2, data['Y'][ele] - ELYDIM/2\n",
    "        x2, y2 = data['X'][ele] + ELXDIM/2, data['Y'][ele] + ELYDIM/2\n",
    "        msp.add_lwpolyline([(x1, y1),(x2, y1),(x2, y2),(x1, y2),(x1, y1)],close=True)\n",
    "\n",
    "doc.saveas(\"wfm_mask_test.dxf\")\n",
    "\"\"\""
   ]
  },
  {
   "cell_type": "code",
   "execution_count": 7,
   "id": "576b33fe-d9a2-4577-9b06-9248edbb4e35",
   "metadata": {},
   "outputs": [],
   "source": [
    "# Create a new DXF document\n",
    "doc = ezdxf.new(dxfversion='R2010')\n",
    "msp = doc.modelspace()\n",
    "\n",
    "#Sorting data by X values\n",
    "\n",
    "sort_idx = np.lexsort( (data['Y'], data['X']))\n",
    "data = data[:][sort_idx]\n",
    "\n",
    "\n",
    "x1, y1 = data['X'][0] - ELXDIM/2, data['Y'][0] - ELYDIM/2\n",
    "x2, y2 = data['X'][0] + ELXDIM/2, data['Y'][0] + ELYDIM/2\n",
    "\n",
    "for ele in range(data['X'].size):\n",
    "    #If it is an open element...\n",
    "    if data['VAL'][ele] == 1:\n",
    "\n",
    "        #Check if pixel is adjancent with the previous one\n",
    "        if (abs(data['X'][ele] - x2) < ELXDIM) and (abs(data['Y'][ele] - y2) < ELYDIM):\n",
    "            #update only x2, y2 coordinates\n",
    "            x2, y2 = data['X'][ele] + ELXDIM/2, data['Y'][ele] + ELYDIM/2\n",
    "        else:\n",
    "            #Write previous slit and update both corrdinates\n",
    "            msp.add_lwpolyline([(x1, y1),(x2, y1),(x2, y2),(x1, y2),(x1, y1)],close=True)\n",
    "            x1, y1 = data['X'][ele] - ELXDIM/2, data['Y'][ele] - ELYDIM/2\n",
    "            x2, y2 = data['X'][ele] + ELXDIM/2, data['Y'][ele] + ELYDIM/2\n",
    "#Write last slit\n",
    "msp.add_lwpolyline([(x1, y1),(x2, y1),(x2, y2),(x1, y2),(x1, y1)],close=True)\n",
    "\n",
    "doc.saveas(\"mask_050_1040x17_20250709.dxf\")"
   ]
  },
  {
   "cell_type": "code",
   "execution_count": null,
   "id": "0e199c74-aa37-48ea-baaa-a069bbba82cf",
   "metadata": {},
   "outputs": [],
   "source": []
  }
 ],
 "metadata": {
  "kernelspec": {
   "display_name": "Python 3 (ipykernel)",
   "language": "python",
   "name": "python3"
  },
  "language_info": {
   "codemirror_mode": {
    "name": "ipython",
    "version": 3
   },
   "file_extension": ".py",
   "mimetype": "text/x-python",
   "name": "python",
   "nbconvert_exporter": "python",
   "pygments_lexer": "ipython3",
   "version": "3.12.9"
  }
 },
 "nbformat": 4,
 "nbformat_minor": 5
}
