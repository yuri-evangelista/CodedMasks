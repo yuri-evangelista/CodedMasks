{
 "cells": [
  {
   "cell_type": "code",
   "execution_count": 1,
   "id": "3ff5ddd3-2942-4498-90df-e750f9a39821",
   "metadata": {},
   "outputs": [],
   "source": [
    "import numpy as np\n",
    "from scipy.signal import convolve\n",
    "from scipy.ndimage import shift as ndshift\n",
    "from pprint import pprint"
   ]
  },
  {
   "cell_type": "code",
   "execution_count": 2,
   "id": "21d46aaa-aba2-4689-972e-77caf8380adc",
   "metadata": {},
   "outputs": [],
   "source": [
    "np.set_printoptions(linewidth=250)\n",
    "np.set_printoptions(precision=3)"
   ]
  },
  {
   "cell_type": "markdown",
   "id": "323f1c0a-3cda-4f2e-956e-de5889ab667b",
   "metadata": {},
   "source": [
    "# Standard fshift function"
   ]
  },
  {
   "cell_type": "code",
   "execution_count": 3,
   "id": "9e445424-b0c3-4268-bb18-ae3215047014",
   "metadata": {},
   "outputs": [],
   "source": [
    "def fshift(arr, lagx, lagy):\n",
    "    \"\"\"\n",
    "    Shifts a 2D array (casted to float) with fractional shifts using SciPy.\n",
    "    \n",
    "    Note: SciPy's shift convention is (y, x), but our images are already in the right shape\n",
    "    \"\"\"\n",
    "    return ndshift(arr, (lagx, lagy), 'float', order=1, prefilter=True, mode='grid-constant', cval=0.0)"
   ]
  },
  {
   "cell_type": "markdown",
   "id": "c8267a11-2555-425d-9e5b-f5aa0199e7aa",
   "metadata": {},
   "source": [
    "# Standard erosion function"
   ]
  },
  {
   "cell_type": "code",
   "execution_count": 4,
   "id": "63cebc39-43e9-4cb4-b943-a4f0fc2628d0",
   "metadata": {},
   "outputs": [],
   "source": [
    "def ferosion( arr,step,cut):\n",
    "    \"\"\"\n",
    "    2D matrix erosion for simulating finite thickness effect in shadow projections.\n",
    "    It takes a mask array and \"thins\" the mask elements across the columns' direction.\n",
    "    \"\"\"\n",
    "    # number of bins to cut\n",
    "    ncuts = int(cut / step)# + int(np.sign(cut))\n",
    "    print('ncuts', ncuts)\n",
    "    print('cut', cut)\n",
    "    \n",
    "    arr_mask = (arr > 0) & (fshift(arr, ncuts , 0 ) > 0)\n",
    "    cutted = arr * arr_mask if ncuts else arr\n",
    "\n",
    "    # array indexes to be fractionally reduced:\n",
    "    #   - the bin with the decimal values is the one\n",
    "    #     to the left or right wrt the cutted bins\n",
    "    erosion_value =  abs(cut / step - ncuts)\n",
    "    print('erosion value', erosion_value)\n",
    "    \n",
    "    cutted_mask = (\n",
    "        np.array((cutted > 0), dtype=int) - np.array((fshift(cutted, int(np.sign(cut)), 0) > 0), dtype=int)\n",
    "    )\n",
    "    border = (cutted_mask > 0)\n",
    "    return cutted * (1.0 - border * erosion_value)"
   ]
  },
  {
   "cell_type": "markdown",
   "id": "c6c4877b-149c-4c05-900b-d81d4bfc78c9",
   "metadata": {},
   "source": [
    "# Dummy mask and camera properties"
   ]
  },
  {
   "cell_type": "code",
   "execution_count": 5,
   "id": "1e6947c3-38c4-474d-ae7b-4ebff949211f",
   "metadata": {},
   "outputs": [],
   "source": [
    "mask =np.array( [\n",
    "    [0,0,0, 0,0,0,0,0, 1,1,1,1,1, 0,0,0,0,0, 0,0,0],\n",
    "    [0,0,0, 0,0,0,0,0, 1,1,1,1,1, 0,0,0,0,0, 0,0,0],\n",
    "    [0,0,0, 0,0,0,0,0, 1,1,1,1,1, 0,0,0,0,0, 0,0,0]\n",
    "])"
   ]
  },
  {
   "cell_type": "code",
   "execution_count": 6,
   "id": "882215b5-9e7e-4564-ae0c-8631c1ea63cf",
   "metadata": {},
   "outputs": [
    {
     "name": "stdout",
     "output_type": "stream",
     "text": [
      "Shift in pixels: 3.275732108395821\n"
     ]
    }
   ],
   "source": [
    "MTHICK = 30\n",
    "focal = 60 + MTHICK\n",
    "theta = -20.0\n",
    "ELXDIM = 10.0\n",
    "shiftX = -focal * np.tan(np.deg2rad(theta))/ELXDIM\n",
    "print(\"Shift in pixels:\", shiftX)"
   ]
  },
  {
   "cell_type": "markdown",
   "id": "c3a1c5c7-bd81-4239-a875-1cf34f61ea18",
   "metadata": {},
   "source": [
    "<img src=\"new_mask_erosion_screenshot.png\"></img>"
   ]
  },
  {
   "cell_type": "markdown",
   "id": "6df1c6c0-f815-433a-a711-41f27de14752",
   "metadata": {},
   "source": [
    "# We need to calculate the \"farest border\", i.e. the border of the shifted mask projection farest from the center\n",
    "## This is the right border for shift>0 and the left border for shift<0"
   ]
  },
  {
   "cell_type": "code",
   "execution_count": 7,
   "id": "52b30ad2-7601-4dd7-9555-2ef8a64d1901",
   "metadata": {},
   "outputs": [
    {
     "name": "stdout",
     "output_type": "stream",
     "text": [
      "nearest border: 0.7242678916041791\n",
      "farest border: 0.27573210839582085\n"
     ]
    }
   ],
   "source": [
    "nearest_border =1 - abs(shiftX - int(shiftX)) #this is not really needed, just for check\n",
    "print(\"nearest border:\", nearest_border) #this is not really needed, just for check\n",
    "\n",
    "farest_border = abs(shiftX - int(shiftX)) #this is needed!\n",
    "print(\"farest border:\", farest_border) #this is needed!"
   ]
  },
  {
   "cell_type": "markdown",
   "id": "ea6fdda0-6119-4041-95b5-f4e9f64fe375",
   "metadata": {},
   "source": [
    "# Now we estimate the reduction factor due to the vignetting\n",
    "## Note that this factor is calculated on the standard pixel grid (not the fshited one)"
   ]
  },
  {
   "cell_type": "code",
   "execution_count": 8,
   "id": "5584c00d-bc9d-4e4e-8d6f-28f62f612edb",
   "metadata": {},
   "outputs": [
    {
     "name": "stdout",
     "output_type": "stream",
     "text": [
      "red_factor_x: -10.91910702798607\n"
     ]
    }
   ],
   "source": [
    "angle_x_rad = -np.arctan(shiftX*ELXDIM / focal)\n",
    "red_factor_x = MTHICK * np.tan(angle_x_rad)\n",
    "print(\"red_factor_x:\", red_factor_x)"
   ]
  },
  {
   "cell_type": "markdown",
   "id": "74b2c8cd-9889-488d-8cc2-af124a339331",
   "metadata": {},
   "source": [
    "# Now we need to re-align the reduction factor to the closer \"external\" pixel edge"
   ]
  },
  {
   "cell_type": "code",
   "execution_count": 9,
   "id": "f4600be0-da9c-4289-ba7d-01b23522354f",
   "metadata": {},
   "outputs": [
    {
     "name": "stdout",
     "output_type": "stream",
     "text": [
      "red_factor_x_corr: -18.161785944027862\n"
     ]
    }
   ],
   "source": [
    "red_factor_x_corr = red_factor_x + np.sign(red_factor_x) * (1- farest_border)*ELXDIM\n",
    "print(\"red_factor_x_corr:\", red_factor_x_corr)"
   ]
  },
  {
   "cell_type": "markdown",
   "id": "295d8e60-7358-4861-9c20-4130c5b68f8d",
   "metadata": {},
   "source": [
    "# With these numbers we can now fshift the mask array (here is 1D for simplicity)"
   ]
  },
  {
   "cell_type": "code",
   "execution_count": 10,
   "id": "6af36447-8a7a-4c41-8bad-2378af884b78",
   "metadata": {},
   "outputs": [
    {
     "name": "stdout",
     "output_type": "stream",
     "text": [
      "[[0.    0.    0.    0.    0.    0.    0.    0.    0.    0.    0.    0.724 1.    1.    1.    1.    0.276 0.    0.    0.    0.   ]\n",
      " [0.    0.    0.    0.    0.    0.    0.    0.    0.    0.    0.    0.724 1.    1.    1.    1.    0.276 0.    0.    0.    0.   ]\n",
      " [0.    0.    0.    0.    0.    0.    0.    0.    0.    0.    0.    0.724 1.    1.    1.    1.    0.276 0.    0.    0.    0.   ]]\n"
     ]
    }
   ],
   "source": [
    "mask_shifted = fshift(mask, 0, shiftX)\n",
    "print(mask_shifted)"
   ]
  },
  {
   "cell_type": "markdown",
   "id": "eccb45da-dcd8-4023-8129-35270284e9ad",
   "metadata": {},
   "source": [
    "# And erode this shifet mask with the correct red_factor_x_corr"
   ]
  },
  {
   "cell_type": "code",
   "execution_count": 11,
   "id": "6841ca2c-8f5e-40a5-a7a2-477c504fd5e2",
   "metadata": {},
   "outputs": [
    {
     "name": "stdout",
     "output_type": "stream",
     "text": [
      "ncuts -1\n",
      "cut -18.161785944027862\n",
      "erosion value 0.8161785944027862\n",
      "\n",
      "[[0.    0.    0.    0.    0.    0.    0.    0.    0.    0.    0.    0.724 1.    1.    1.    0.184 0.    0.    0.    0.    0.   ]\n",
      " [0.    0.    0.    0.    0.    0.    0.    0.    0.    0.    0.    0.724 1.    1.    1.    0.184 0.    0.    0.    0.    0.   ]\n",
      " [0.    0.    0.    0.    0.    0.    0.    0.    0.    0.    0.    0.724 1.    1.    1.    0.184 0.    0.    0.    0.    0.   ]]\n"
     ]
    }
   ],
   "source": [
    "mask_vignetted = ferosion(mask_shifted.T, ELXDIM, red_factor_x_corr)\n",
    "print()\n",
    "print(mask_vignetted.T)"
   ]
  },
  {
   "cell_type": "code",
   "execution_count": null,
   "id": "16931091-8a69-4853-a09d-704ecdff3641",
   "metadata": {},
   "outputs": [],
   "source": []
  }
 ],
 "metadata": {
  "kernelspec": {
   "display_name": "Python 3 (ipykernel)",
   "language": "python",
   "name": "python3"
  },
  "language_info": {
   "codemirror_mode": {
    "name": "ipython",
    "version": 3
   },
   "file_extension": ".py",
   "mimetype": "text/x-python",
   "name": "python",
   "nbconvert_exporter": "python",
   "pygments_lexer": "ipython3",
   "version": "3.12.9"
  }
 },
 "nbformat": 4,
 "nbformat_minor": 5
}
