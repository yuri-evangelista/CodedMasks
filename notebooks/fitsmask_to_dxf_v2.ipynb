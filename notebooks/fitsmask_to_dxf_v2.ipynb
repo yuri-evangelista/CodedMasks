{
 "cells": [
  {
   "cell_type": "code",
   "execution_count": 1,
   "id": "af437612-c396-41b2-acd7-169ce8da7a0f",
   "metadata": {},
   "outputs": [],
   "source": [
    "%matplotlib ipympl\n",
    "import numpy as np\n",
    "from mask_utils import *\n",
    "import matplotlib.pyplot as plt\n",
    "from matplotlib import cm"
   ]
  },
  {
   "cell_type": "code",
   "execution_count": 20,
   "id": "368071bf-03cb-42fc-8b93-9dfb2b16dcb0",
   "metadata": {},
   "outputs": [],
   "source": [
    "def fits_mask_to_dxf(fitsin, dxfout):\n",
    "    def get_label_index(arr, _label):\n",
    "        # Returns the first and last indexes of a labeled region\n",
    "        # e.g. \n",
    "        # (x1, y1), (x2, y2) = get_label_index(l, 2)\n",
    "        idx = np.where(arr == _label)\n",
    "        return (idx[0][0], idx[1][0]), (idx[0][-1], idx[1][-1])\n",
    "\n",
    "    #reading mask file as an image\n",
    "    mask, header = read_mask_bulk(fitsin, 'MASK', header_out=True, verbose=False)\n",
    "    ELXDIM = header['ELXDIM']\n",
    "    ELYDIM = header['ELYDIM']\n",
    "    MXDIM  = header['MXDIM']\n",
    "    MYDIM  = header['MYDIM']\n",
    "\n",
    "    #Finding open regions\n",
    "    l, num_features = label(mask)\n",
    "\n",
    "    #Initializing DXF file\n",
    "    doc = ezdxf.new(dxfversion='R2010')\n",
    "    msp = doc.modelspace()\n",
    "\n",
    "    for feature in range(1, num_features):\n",
    "        #Getting open region corner indexes\n",
    "        (i1, j1), (i2, j2) = get_label_index(l, feature)\n",
    "        #Transforming indexes in spatial coordinates\n",
    "        x1, y1 = i1 * ELXDIM -  MXDIM/2,  j1 * ELYDIM -  MYDIM/2\n",
    "        x2, y2 = (i2+1) * ELXDIM -  MXDIM/2, (j2+1) * ELYDIM - MYDIM/2\n",
    "\n",
    "        #Drawing rectangle as closed polyline\n",
    "        msp.add_lwpolyline([(x1, y1),(x2, y1),(x2, y2),(x1, y2),(x1, y1)],close=True)\n",
    "\n",
    "    #Writing DXF file\n",
    "    doc.saveas(dxfout)\n",
    "    print(dxfout, 'file created')"
   ]
  },
  {
   "cell_type": "code",
   "execution_count": 21,
   "id": "ccb33871-3838-4b91-9cbb-64f22b8d7ab6",
   "metadata": {},
   "outputs": [
    {
     "name": "stdout",
     "output_type": "stream",
     "text": [
      "prova2.dxf file created\n"
     ]
    }
   ],
   "source": [
    "fits_mask_to_dxf('mask_050_1040x17_20250709.fits', 'prova2.dxf')"
   ]
  },
  {
   "cell_type": "code",
   "execution_count": null,
   "id": "60d7a5c3-5287-4169-bcef-5c40e35fadf8",
   "metadata": {},
   "outputs": [],
   "source": []
  }
 ],
 "metadata": {
  "kernelspec": {
   "display_name": "Python 3 (ipykernel)",
   "language": "python",
   "name": "python3"
  },
  "language_info": {
   "codemirror_mode": {
    "name": "ipython",
    "version": 3
   },
   "file_extension": ".py",
   "mimetype": "text/x-python",
   "name": "python",
   "nbconvert_exporter": "python",
   "pygments_lexer": "ipython3",
   "version": "3.12.9"
  }
 },
 "nbformat": 4,
 "nbformat_minor": 5
}
