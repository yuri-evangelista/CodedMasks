{
 "cells": [
  {
   "cell_type": "code",
   "execution_count": 45,
   "id": "f337b198-3c8c-4037-b09b-32acc4e340ed",
   "metadata": {},
   "outputs": [],
   "source": [
    "%matplotlib ipympl\n",
    "import numpy as np\n",
    "import astropy.io.fits as pyfits \n",
    "from astropy.table import Table, Column\n",
    "\n",
    "import matplotlib.pyplot as plt\n",
    "from matplotlib import cm\n",
    "\n"
   ]
  },
  {
   "cell_type": "code",
   "execution_count": 46,
   "id": "3c9cbad9-16b4-42c1-84b7-c5b353e4694a",
   "metadata": {},
   "outputs": [],
   "source": [
    "path = \"F:/CodedMasks/Spectral analysis/WFM/\"\n",
    "rmf = \"wfm.rmf\"\n",
    "arf = \"wfm.arf\""
   ]
  },
  {
   "cell_type": "code",
   "execution_count": 47,
   "id": "7866a512-3295-4117-ba95-04db80f8ecbf",
   "metadata": {},
   "outputs": [],
   "source": [
    "def read_ebounds(filermf, header2=False):\n",
    "    with pyfits.open(filermf) as hdu_list:\n",
    "        header_2 = hdu_list[2].header\n",
    "\n",
    "        data = hdu_list[2].data\n",
    "        ebounds = Table(data)\n",
    "        print(ebounds.keys())\n",
    "        if not header2:\n",
    "            return ebounds\n",
    "        else:\n",
    "            return ebounds, header_2"
   ]
  },
  {
   "cell_type": "code",
   "execution_count": 58,
   "id": "02d5a633-f167-4aa4-85e0-8fa12e1a40a7",
   "metadata": {},
   "outputs": [],
   "source": [
    "def write_spectrum_counts(channels, counts, exposure, rmf_file, arf_file, outfile, telescope, instrument):\n",
    "    print(outfile)\n",
    "    n_channels = len(channels)\n",
    "    iqal = np.zeros(n_channels)                    # Fattore di qualita'\n",
    "    igr = np.ones(n_channels)                    # Fattore di grouping\n",
    "\n",
    "\n",
    "    # Genera estensione principale\n",
    "    col1=pyfits.Column(name='CHANNEL',  format='J', unit='none',   array=channels) \n",
    "    col2=pyfits.Column(name='COUNTS',   format='J', unit='count',  array=counts)\n",
    "    col3=pyfits.Column(name='QUALITY',  format='I', unit='none',   array=iqal)\n",
    "    col4=pyfits.Column(name='GROUPING', format='I', unit='none',   array=igr)\n",
    "\n",
    "    tbhdu = pyfits.BinTableHDU.from_columns([col1, col2, col3, col4]) \n",
    "\n",
    "    tbhdu.header.set('EXTNAME','SPECTRUM','name of this binary table extension') \n",
    "    tbhdu.header.set('TELESCOP',telescope,'Telescope name') \n",
    "    tbhdu.header.set('INSTRUME',instrument,'Instrument name')\n",
    "    tbhdu.header.set('FILTER  ','none','Instrument filter in use')\n",
    "    tbhdu.header.set('EXPOSURE', exposure,'Exposure time(s)')                 # parametro input\n",
    "    tbhdu.header.set('EFFAREA', 1.0000E+00,'effective area factor')\n",
    "    tbhdu.header.set('AREASCAL',1.0000E+00,'nominal effective area')\n",
    "    tbhdu.header.set('BACKSCAL',1.0000E+00,'background scale factor')\n",
    "    tbhdu.header.set('BACKFILE','none ','background FITS file')\n",
    "    tbhdu.header.set('CORRFILE','none','correlation FITS file')\n",
    "    tbhdu.header.set('CORRSCAL',0.0,'Correlation scale factor')\n",
    "    tbhdu.header.set('RESPFILE',rmf_file,'redistribution matrix file (RMF)')    # parametro input\n",
    "    tbhdu.header.set('ANCRFILE',arf_file,'ancillary response file (ARF)')    # parametro input\n",
    "    tbhdu.header.set('XFLT0001','none','XSPEC selection filter description')\n",
    "    tbhdu.header.set('CHANTYPE','PHA','Channel assigned by detector electronics')\n",
    "    tbhdu.header.set('POISSERR',True,'Poissonian error assumed')\n",
    "    tbhdu.header.set('STAT_ERR',0,'no statistical error specified') \n",
    "    tbhdu.header.set('SYS_ERR', 0,'no systematic error specified') \n",
    "    tbhdu.header.set('DETCHANS',n_channels,'Total no. detector channels ')\n",
    "    tbhdu.header.set('CREATOR','python-pyfits','program which created the PHA dataset')\n",
    "    tbhdu.header.set('HDUCLASS','OGIP','organization of the file format in use')\n",
    "    tbhdu.header.set('HDUCLAS1','SPECTRUM','extension contains a PHA dataset')\n",
    "    tbhdu.header.set('HDUCLAS2','NET','type of data stored') # 'TOTAL' = src + bg, 'NET' = src, 'BKG' = bkg\n",
    "    tbhdu.header.set('HDUCLAS3','COUNT','type of data stored')\n",
    "    tbhdu.header.set('HDUCLAS4','TYPE:I','type of data stored')\n",
    "    tbhdu.header.set('HDUVERS','1.2.1','version of the HDUCLASS format in use')\n",
    "    tbhdu.header.set('HDUVERS1','1.2.1','version of the HDUCLAS1 format in use')\n",
    "    tbhdu.header.set('TLMIN1',0,'Lowest legal channel number')\n",
    "    tbhdu.header.set('TLMAX1',n_channels-1,'Highest legal channel number')\n",
    "\n",
    "\n",
    "    # Genera primary extension\n",
    "    prhdu = pyfits.PrimaryHDU()\n",
    "    prhdu.header.set('CONTENT','PHA SPECTRUM','spectrum file')\n",
    "    prhdu.header.set('TELESCOP','HERMES','Telescope name')\n",
    "    prhdu.header.set('INSTRUME','HERMES-S','Instrument name')\n",
    "\n",
    "    # Appende le estensioni create e le scrive su file\n",
    "    hdulist = pyfits.HDUList([prhdu])\n",
    "    hdulist.append(tbhdu)\n",
    "    hdulist.writeto(outfile, overwrite=True)"
   ]
  },
  {
   "cell_type": "code",
   "execution_count": 49,
   "id": "a6a7381b-5903-4c91-bfe7-b70914236800",
   "metadata": {},
   "outputs": [
    {
     "name": "stdout",
     "output_type": "stream",
     "text": [
      "['CHANNEL', 'E_MIN', 'E_MAX']\n"
     ]
    }
   ],
   "source": [
    "ebounds = read_ebounds(rmf)"
   ]
  },
  {
   "cell_type": "code",
   "execution_count": 60,
   "id": "e4d53638-26f6-4960-ac29-93a4afc1f3a7",
   "metadata": {},
   "outputs": [],
   "source": [
    "path_evt = \"F:/CodedMasks/Spectral analysis/WFM/20250612_galctr_rxte_sax_2-30keV_10ks_infdense_lises_sources_cxb/\"\n",
    "file_evt = path_evt + \"galctr_rxte_sax_2-30keV_10ks_infdense_lines_sources_cxb_cam1a_detected.fits\"\n",
    "\n",
    "\n",
    "with pyfits.open(file_evt) as hdu_list:\n",
    "    header1 = hdu_list[1].header\n",
    "    data = hdu_list[1].data\n",
    "    events = Table(data)"
   ]
  },
  {
   "cell_type": "code",
   "execution_count": 61,
   "id": "36c25e3f-3a2a-4f5c-80da-4283741b782b",
   "metadata": {},
   "outputs": [],
   "source": [
    "def filter_source(data, ra, dec, verbose=False):\n",
    "    mask = np.ones(len(data), dtype=bool)\n",
    "    mask &= (np.isclose(data[\"RA\"], ra) & np.isclose(data[\"DEC\"], dec))\n",
    "    filtered = data[mask]\n",
    "    if verbose:\n",
    "        print(\"Selected\", len(filtered), \"out of\", len(data), \"events\")\n",
    "\n",
    "    return filtered"
   ]
  },
  {
   "cell_type": "code",
   "execution_count": 62,
   "id": "4aea15dd-8046-45c4-a38c-a4f52d33e460",
   "metadata": {},
   "outputs": [],
   "source": [
    "gro1655_ra = 253.5\n",
    "gro1655_dec = -39.8457984924316"
   ]
  },
  {
   "cell_type": "code",
   "execution_count": 63,
   "id": "01a984f0-dda4-4976-ae87-b9ad3ca770cd",
   "metadata": {},
   "outputs": [
    {
     "name": "stdout",
     "output_type": "stream",
     "text": [
      "Selected 184492 out of 11877276 events\n"
     ]
    }
   ],
   "source": [
    "events_filtered = filter_source(events, gro1655_ra, gro1655_dec, verbose=True)"
   ]
  },
  {
   "cell_type": "code",
   "execution_count": 64,
   "id": "19366b92-2912-450d-bd97-54e5f116565d",
   "metadata": {},
   "outputs": [],
   "source": [
    "bins = np.append(ebounds['E_MIN'], ebounds['E_MAX'][-1])\n",
    "spectrum, _ = np.histogram(events['ENERGY'], bins=bins)"
   ]
  },
  {
   "cell_type": "code",
   "execution_count": 65,
   "id": "f5a4ef2d-cb6c-4bba-81b5-760c36db2e3a",
   "metadata": {},
   "outputs": [
    {
     "data": {
      "application/vnd.jupyter.widget-view+json": {
       "model_id": "f38d82450100441287f7fbd0636d744f",
       "version_major": 2,
       "version_minor": 0
      },
      "image/png": "[encoded data removed]",
      "text/html": [
       "\n",
       "            <div style=\"display: inline-block;\">\n",
       "                <div class=\"jupyter-widgets widget-label\" style=\"text-align: center;\">\n",
       "                    Figure\n",
       "                </div>\n",
       "                <img src='data:image/png;base64,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' width=640.0/>\n",
       "            </div>\n",
       "        "
      ],
      "text/plain": [
       "Canvas(toolbar=Toolbar(toolitems=[('Home', 'Reset original view', 'home', 'home'), ('Back', 'Back to previous …"
      ]
     },
     "metadata": {},
     "output_type": "display_data"
    }
   ],
   "source": [
    "plt.figure()\n",
    "plt.title('Crab + CXB spectrum')\n",
    "plt.stairs(spectrum, bins)\n",
    "plt.yscale('log')\n",
    "plt.show()"
   ]
  },
  {
   "cell_type": "code",
   "execution_count": 66,
   "id": "f3b6cd73-b60b-46c2-a6f4-5e7601b914cf",
   "metadata": {},
   "outputs": [
    {
     "name": "stdout",
     "output_type": "stream",
     "text": [
      "F:/CodedMasks/Spectral analysis/WFM/20250612_galctr_rxte_sax_2-30keV_10ks_infdense_lises_sources_cxb/sample_spectrum.pha\n"
     ]
    }
   ],
   "source": [
    "write_spectrum_counts(ebounds['CHANNEL'], spectrum, 1000, path+rmf, path+arf, path_evt + 'sample_spectrum.pha', 'eXTP', 'WFM')"
   ]
  },
  {
   "cell_type": "code",
   "execution_count": null,
   "id": "c637d03f-6086-4540-930f-cb621ce36b85",
   "metadata": {},
   "outputs": [],
   "source": []
  },
  {
   "cell_type": "code",
   "execution_count": null,
   "id": "15bbf051-7ae7-47f9-8eb1-6b893434925f",
   "metadata": {},
   "outputs": [],
   "source": []
  }
 ],
 "metadata": {
  "kernelspec": {
   "display_name": "Python 3 (ipykernel)",
   "language": "python",
   "name": "python3"
  },
  "language_info": {
   "codemirror_mode": {
    "name": "ipython",
    "version": 3
   },
   "file_extension": ".py",
   "mimetype": "text/x-python",
   "name": "python",
   "nbconvert_exporter": "python",
   "pygments_lexer": "ipython3",
   "version": "3.12.9"
  }
 },
 "nbformat": 4,
 "nbformat_minor": 5
}
