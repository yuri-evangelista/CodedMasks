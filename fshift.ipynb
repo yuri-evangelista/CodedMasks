{
 "cells": [
  {
   "cell_type": "code",
   "execution_count": 362,
   "id": "1ca95f03-70df-4ae8-9930-93bc8d83f389",
   "metadata": {},
   "outputs": [],
   "source": [
    "import numpy as np\n",
    "from pprint import pprint"
   ]
  },
  {
   "cell_type": "code",
   "execution_count": 363,
   "id": "aee2c2cf-1869-4f30-9a2c-f4cc4e49a40b",
   "metadata": {},
   "outputs": [],
   "source": [
    "def fshift(arr, lagx, lagy):\n",
    "    #Shifts a 2D array with fractional shifts. \n",
    "    #Shifted array values are weighted\n",
    "    \n",
    "    s = np.shape(arr)\n",
    "\n",
    "    #Pad original array\n",
    "    npadx, npady = int(np.ceil(abs(lagx))), int(np.ceil(abs(lagy)))\n",
    "    padded = np.pad(arr, ((npady, npady), (npadx, npadx)), 'constant', constant_values=(0,0))\n",
    "    \n",
    "    #Define shift signs, integer and fractional parts\n",
    "    slagx, slagy = int(np.sign(lagx)) if lagx != 0 else 1, int(np.sign(lagy)) if lagy != 0 else 1\n",
    "    ilagx, ilagy = int(np.floor(abs(lagx)) * slagx), int(np.floor(abs(lagy)) * slagy)\n",
    "    flagx, flagy = lagx - ilagx, lagy - ilagy\n",
    "\n",
    "    #Shift along x (=cols) direction\n",
    "    ixshifted = np.roll(padded, ilagx, axis=1) * (1-abs(flagx))\n",
    "    fxshifted = np.roll(padded, ilagx + slagx, axis=1) * (abs(flagx)) if flagx !=0 else padded * 0\n",
    "    xshifted  = ixshifted + fxshifted\n",
    "\n",
    "    #Shift along y (=rows) direction\n",
    "    iyshifted = np.roll(xshifted, ilagy, axis=0) * (1-abs(flagy))\n",
    "    fyshifted = np.roll(xshifted, ilagy + slagy, axis=0) * (abs(flagy)) if  flagy != 0 else padded * 0\n",
    "\n",
    "    shifted = iyshifted + fyshifted\n",
    "\n",
    "    return shifted[ npady: s[0] + npady, npadx: s[1] + npadx]"
   ]
  },
  {
   "cell_type": "code",
   "execution_count": 365,
   "id": "ae68dd1f-5036-4f8d-a71c-3e8f46cd6589",
   "metadata": {},
   "outputs": [
    {
     "name": "stdout",
     "output_type": "stream",
     "text": [
      "Sum of original image: 16\n",
      "Sum of shiofted image: 16.0\n",
      "\n",
      "Original array\n",
      "\n",
      "[[0, 0, 0, 0, 0, 0, 0, 0, 0, 0],\n",
      " [0, 0, 0, 1, 1, 0, 0, 1, 1, 0],\n",
      " [0, 0, 0, 1, 1, 0, 0, 1, 1, 0],\n",
      " [0, 1, 1, 1, 1, 0, 0, 0, 0, 0],\n",
      " [0, 1, 1, 1, 1, 0, 0, 0, 0, 0],\n",
      " [0, 0, 0, 0, 0, 0, 0, 0, 0, 0]]\n",
      "Shifted array\n",
      "\n",
      "array([[0.  , 0.  , 0.  , 0.09, 0.1 , 0.01, 0.  , 0.09, 0.1 , 0.01],\n",
      "       [0.  , 0.  , 0.  , 0.9 , 1.  , 0.1 , 0.  , 0.9 , 1.  , 0.1 ],\n",
      "       [0.  , 0.09, 0.1 , 0.91, 1.  , 0.1 , 0.  , 0.81, 0.9 , 0.09],\n",
      "       [0.  , 0.9 , 1.  , 1.  , 1.  , 0.1 , 0.  , 0.  , 0.  , 0.  ],\n",
      "       [0.  , 0.81, 0.9 , 0.9 , 0.9 , 0.09, 0.  , 0.  , 0.  , 0.  ],\n",
      "       [0.  , 0.  , 0.  , 0.  , 0.  , 0.  , 0.  , 0.  , 0.  , 0.  ]])\n"
     ]
    }
   ],
   "source": [
    "img = [[0,0,0,0,0,0,0,0,0,0],\n",
    "       [0,0,0,1,1,0,0,1,1,0],\n",
    "       [0,0,0,1,1,0,0,1,1,0],\n",
    "       [0,1,1,1,1,0,0,0,0,0],\n",
    "       [0,1,1,1,1,0,0,0,0,0],\n",
    "       [0,0,0,0,0,0,0,0,0,0],\n",
    "      ]\n",
    "\n",
    "\n",
    "shifted = fshift(img, 0.1,-0.1)\n",
    "\n",
    "print(\"Sum of original image:\", np.sum(img))\n",
    "print(\"Sum of shiofted image:\", np.sum(shifted))\n",
    "print()\n",
    "\n",
    "\n",
    "\n",
    "print(\"Original array\\n\")\n",
    "pprint(img)\n",
    "\n",
    "print(\"Shifted array\\n\")\n",
    "pprint(shifted)"
   ]
  },
  {
   "cell_type": "code",
   "execution_count": null,
   "id": "85b9a2ae-f8d4-4bd3-b3f5-d38444d27026",
   "metadata": {},
   "outputs": [],
   "source": []
  },
  {
   "cell_type": "code",
   "execution_count": null,
   "id": "0011868f-8ea3-455a-91c3-2a0414fae058",
   "metadata": {},
   "outputs": [],
   "source": []
  }
 ],
 "metadata": {
  "kernelspec": {
   "display_name": "Python 3 (ipykernel)",
   "language": "python",
   "name": "python3"
  },
  "language_info": {
   "codemirror_mode": {
    "name": "ipython",
    "version": 3
   },
   "file_extension": ".py",
   "mimetype": "text/x-python",
   "name": "python",
   "nbconvert_exporter": "python",
   "pygments_lexer": "ipython3",
   "version": "3.12.9"
  }
 },
 "nbformat": 4,
 "nbformat_minor": 5
}
