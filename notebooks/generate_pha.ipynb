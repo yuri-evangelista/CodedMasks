{
 "cells": [
  {
   "cell_type": "code",
   "execution_count": 1,
   "id": "f337b198-3c8c-4037-b09b-32acc4e340ed",
   "metadata": {},
   "outputs": [],
   "source": [
    "%matplotlib ipympl\n",
    "import numpy as np\n",
    "import astropy.io.fits as pyfits \n",
    "from astropy.table import Table, Column\n",
    "\n",
    "import matplotlib.pyplot as plt\n",
    "from matplotlib import cm\n",
    "\n"
   ]
  },
  {
   "cell_type": "code",
   "execution_count": 2,
   "id": "3c9cbad9-16b4-42c1-84b7-c5b353e4694a",
   "metadata": {},
   "outputs": [],
   "source": [
    "path = \"F:/CodedMasks/Spectral analysis/WFM/\"\n",
    "rmf = \"wfm.rmf\"\n",
    "arf = \"wfm.arf\""
   ]
  },
  {
   "cell_type": "code",
   "execution_count": 3,
   "id": "7866a512-3295-4117-ba95-04db80f8ecbf",
   "metadata": {},
   "outputs": [],
   "source": [
    "def read_ebounds(filermf, header2=False):\n",
    "    with pyfits.open(filermf) as hdu_list:\n",
    "        header_2 = hdu_list[2].header\n",
    "\n",
    "        data = hdu_list[2].data\n",
    "        ebounds = Table(data)\n",
    "        print(ebounds.keys())\n",
    "        if not header2:\n",
    "            return ebounds\n",
    "        else:\n",
    "            return ebounds, header_2"
   ]
  },
  {
   "cell_type": "code",
   "execution_count": 4,
   "id": "02d5a633-f167-4aa4-85e0-8fa12e1a40a7",
   "metadata": {},
   "outputs": [],
   "source": [
    "def write_spectrum_counts(channels, counts, exposure, rmf_file, arf_file, outfile, telescope, instrument):\n",
    "    print(outfile)\n",
    "    n_channels = len(channels)\n",
    "    iqal = np.zeros(n_channels)                    # Fattore di qualita'\n",
    "    igr = np.ones(n_channels)                    # Fattore di grouping\n",
    "\n",
    "\n",
    "    # Genera estensione principale\n",
    "    col1=pyfits.Column(name='CHANNEL',  format='J', unit='none',   array=channels) \n",
    "    col2=pyfits.Column(name='COUNTS',   format='J', unit='count',  array=counts)\n",
    "    col3=pyfits.Column(name='QUALITY',  format='I', unit='none',   array=iqal)\n",
    "    col4=pyfits.Column(name='GROUPING', format='I', unit='none',   array=igr)\n",
    "\n",
    "    tbhdu = pyfits.BinTableHDU.from_columns([col1, col2, col3, col4]) \n",
    "\n",
    "    tbhdu.header.set('EXTNAME','SPECTRUM','name of this binary table extension') \n",
    "    tbhdu.header.set('TELESCOP',telescope,'Telescope name') \n",
    "    tbhdu.header.set('INSTRUME',instrument,'Instrument name')\n",
    "    tbhdu.header.set('FILTER  ','none','Instrument filter in use')\n",
    "    tbhdu.header.set('EXPOSURE', exposure,'Exposure time(s)')                 # parametro input\n",
    "    tbhdu.header.set('EFFAREA', 1.0000E+00,'effective area factor')\n",
    "    tbhdu.header.set('AREASCAL',1.0000E+00,'nominal effective area')\n",
    "    tbhdu.header.set('BACKSCAL',1.0000E+00,'background scale factor')\n",
    "    tbhdu.header.set('BACKFILE','none ','background FITS file')\n",
    "    tbhdu.header.set('CORRFILE','none','correlation FITS file')\n",
    "    tbhdu.header.set('CORRSCAL',0.0,'Correlation scale factor')\n",
    "    tbhdu.header.set('RESPFILE',rmf_file,'redistribution matrix file (RMF)')    # parametro input\n",
    "    tbhdu.header.set('ANCRFILE',arf_file,'ancillary response file (ARF)')    # parametro input\n",
    "    tbhdu.header.set('XFLT0001','none','XSPEC selection filter description')\n",
    "    tbhdu.header.set('CHANTYPE','PHA','Channel assigned by detector electronics')\n",
    "    tbhdu.header.set('POISSERR',True,'Poissonian error assumed')\n",
    "    tbhdu.header.set('STAT_ERR',0,'no statistical error specified') \n",
    "    tbhdu.header.set('SYS_ERR', 0,'no systematic error specified') \n",
    "    tbhdu.header.set('DETCHANS',n_channels,'Total no. detector channels ')\n",
    "    tbhdu.header.set('CREATOR','python-pyfits','program which created the PHA dataset')\n",
    "    tbhdu.header.set('HDUCLASS','OGIP','organization of the file format in use')\n",
    "    tbhdu.header.set('HDUCLAS1','SPECTRUM','extension contains a PHA dataset')\n",
    "    tbhdu.header.set('HDUCLAS2','NET','type of data stored') # 'TOTAL' = src + bg, 'NET' = src, 'BKG' = bkg\n",
    "    tbhdu.header.set('HDUCLAS3','COUNT','type of data stored')\n",
    "    tbhdu.header.set('HDUCLAS4','TYPE:I','type of data stored')\n",
    "    tbhdu.header.set('HDUVERS','1.2.1','version of the HDUCLASS format in use')\n",
    "    tbhdu.header.set('HDUVERS1','1.2.1','version of the HDUCLAS1 format in use')\n",
    "    tbhdu.header.set('TLMIN1',0,'Lowest legal channel number')\n",
    "    tbhdu.header.set('TLMAX1',n_channels-1,'Highest legal channel number')\n",
    "\n",
    "\n",
    "    # Genera primary extension\n",
    "    prhdu = pyfits.PrimaryHDU()\n",
    "    prhdu.header.set('CONTENT','PHA SPECTRUM','spectrum file')\n",
    "    prhdu.header.set('TELESCOP', telescope,'Telescope name')\n",
    "    prhdu.header.set('INSTRUME', instrument,'Instrument name')\n",
    "\n",
    "    # Appende le estensioni create e le scrive su file\n",
    "    hdulist = pyfits.HDUList([prhdu])\n",
    "    hdulist.append(tbhdu)\n",
    "    hdulist.writeto(outfile, overwrite=True)"
   ]
  },
  {
   "cell_type": "code",
   "execution_count": 5,
   "id": "a6a7381b-5903-4c91-bfe7-b70914236800",
   "metadata": {},
   "outputs": [
    {
     "name": "stdout",
     "output_type": "stream",
     "text": [
      "['CHANNEL', 'E_MIN', 'E_MAX']\n"
     ]
    }
   ],
   "source": [
    "ebounds = read_ebounds(rmf)"
   ]
  },
  {
   "cell_type": "code",
   "execution_count": 6,
   "id": "e4d53638-26f6-4960-ac29-93a4afc1f3a7",
   "metadata": {},
   "outputs": [],
   "source": [
    "path_evt = \"F:/CodedMasks/Spectral analysis/WFM/20250612_galctr_rxte_sax_2-30keV_10ks_infdense_lises_sources_cxb/\"\n",
    "file_evt = path_evt + \"galctr_rxte_sax_2-30keV_10ks_infdense_lines_sources_cxb_cam1a_detected.fits\"\n",
    "\n",
    "\n",
    "with pyfits.open(file_evt) as hdu_list:\n",
    "    header1 = hdu_list[1].header\n",
    "    data = hdu_list[1].data\n",
    "    events = Table(data)"
   ]
  },
  {
   "cell_type": "code",
   "execution_count": 7,
   "id": "36c25e3f-3a2a-4f5c-80da-4283741b782b",
   "metadata": {},
   "outputs": [],
   "source": [
    "def filter_source(data, ra, dec, verbose=False):\n",
    "    mask = np.ones(len(data), dtype=bool)\n",
    "    mask &= (np.isclose(data[\"RA\"], ra) & np.isclose(data[\"DEC\"], dec))\n",
    "    filtered = data[mask]\n",
    "    if verbose:\n",
    "        print(\"Selected\", len(filtered), \"out of\", len(data), \"events\")\n",
    "\n",
    "    return filtered"
   ]
  },
  {
   "cell_type": "code",
   "execution_count": 8,
   "id": "4aea15dd-8046-45c4-a38c-a4f52d33e460",
   "metadata": {},
   "outputs": [],
   "source": [
    "gro1655_ra = 253.5\n",
    "gro1655_dec = -39.8457984924316"
   ]
  },
  {
   "cell_type": "code",
   "execution_count": 9,
   "id": "01a984f0-dda4-4976-ae87-b9ad3ca770cd",
   "metadata": {},
   "outputs": [
    {
     "name": "stdout",
     "output_type": "stream",
     "text": [
      "Selected 184492 out of 11877276 events\n"
     ]
    }
   ],
   "source": [
    "events_filtered = filter_source(events, gro1655_ra, gro1655_dec, verbose=True)"
   ]
  },
  {
   "cell_type": "code",
   "execution_count": 10,
   "id": "19366b92-2912-450d-bd97-54e5f116565d",
   "metadata": {},
   "outputs": [],
   "source": [
    "bins = np.append(ebounds['E_MIN'], ebounds['E_MAX'][-1])\n",
    "spectrum, _ = np.histogram(events['ENERGY'], bins=bins)"
   ]
  },
  {
   "cell_type": "code",
   "execution_count": 11,
   "id": "f5a4ef2d-cb6c-4bba-81b5-760c36db2e3a",
   "metadata": {},
   "outputs": [
    {
     "data": {
      "application/vnd.jupyter.widget-view+json": {
       "model_id": "675af719b0764d9c8a11aaf9fa5d8482",
       "version_major": 2,
       "version_minor": 0
      },
      "image/png": "[encoded data removed]",
      "text/html": [
       "\n",
       "            <div style=\"display: inline-block;\">\n",
       "                <div class=\"jupyter-widgets widget-label\" style=\"text-align: center;\">\n",
       "                    Figure\n",
       "                </div>\n",
       "                <img src='data:image/png;base64,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' width=640.0/>\n",
       "            </div>\n",
       "        "
      ],
      "text/plain": [
       "Canvas(toolbar=Toolbar(toolitems=[('Home', 'Reset original view', 'home', 'home'), ('Back', 'Back to previous …"
      ]
     },
     "metadata": {},
     "output_type": "display_data"
    }
   ],
   "source": [
    "plt.figure()\n",
    "plt.title('Crab + CXB spectrum')\n",
    "plt.stairs(spectrum, bins)\n",
    "plt.yscale('log')\n",
    "plt.xscale('log')\n",
    "plt.xlim((2,30))\n",
    "plt.show()"
   ]
  },
  {
   "cell_type": "code",
   "execution_count": 12,
   "id": "f3b6cd73-b60b-46c2-a6f4-5e7601b914cf",
   "metadata": {},
   "outputs": [
    {
     "name": "stdout",
     "output_type": "stream",
     "text": [
      "F:/CodedMasks/Spectral analysis/WFM/20250612_galctr_rxte_sax_2-30keV_10ks_infdense_lises_sources_cxb/sample_spectrum.pha\n"
     ]
    },
    {
     "name": "stderr",
     "output_type": "stream",
     "text": [
      "WARNING: VerifyWarning: Card is too long, comment will be truncated. [astropy.io.fits.card]\n"
     ]
    }
   ],
   "source": [
    "write_spectrum_counts(ebounds['CHANNEL'], spectrum, 1000, path+rmf, path+arf, path_evt + 'sample_spectrum.pha', 'eXTP', 'WFM')"
   ]
  }
 ],
 "metadata": {
  "kernelspec": {
   "display_name": "Python 3 (ipykernel)",
   "language": "python",
   "name": "python3"
  },
  "language_info": {
   "codemirror_mode": {
    "name": "ipython",
    "version": 3
   },
   "file_extension": ".py",
   "mimetype": "text/x-python",
   "name": "python",
   "nbconvert_exporter": "python",
   "pygments_lexer": "ipython3",
   "version": "3.12.9"
  }
 },
 "nbformat": 4,
 "nbformat_minor": 5
}
